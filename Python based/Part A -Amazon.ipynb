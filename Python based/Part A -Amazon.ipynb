{
 "cells": [
  {
   "cell_type": "markdown",
   "id": "e03065b5-ce20-4ebe-9102-f310d3dd7bca",
   "metadata": {
    "tags": []
   },
   "source": [
    "## Natural Language Processing\n",
    "## Sentimental Analysis with Amazon Product Reviews by Customers"
   ]
  },
  {
   "cell_type": "markdown",
   "id": "bc10cd54-53fc-4f05-bb24-ba9d4544f02b",
   "metadata": {},
   "source": [
    "#### The GOAL of these project is to VIEW and CLASSIFY some KEYWORDS in the customer review of a paricular product.\n",
    " \n",
    "#### Therefore an analysis will be performed on these KEYWORDS to know if it falls under... \n",
    "#### (1) Positive review (2) Negative review (3) Neutral review"
   ]
  },
  {
   "cell_type": "code",
   "execution_count": null,
   "id": "89245399-c297-4982-a21f-13e41e100f07",
   "metadata": {},
   "outputs": [],
   "source": []
  },
  {
   "cell_type": "code",
   "execution_count": 1,
   "id": "26370a2f-40c0-403a-a8ae-fd2a3c132bed",
   "metadata": {},
   "outputs": [],
   "source": [
    "#Importing relevant libraries\n",
    "import re\n",
    "import pandas as pd\n",
    "import matplotlib.pyplot as plt\n",
    "import seaborn as sns\n",
    "import numpy as np\n",
    "import string"
   ]
  },
  {
   "cell_type": "code",
   "execution_count": null,
   "id": "7c142f3b-4364-489f-a66a-a1abc10619b7",
   "metadata": {},
   "outputs": [],
   "source": []
  },
  {
   "cell_type": "markdown",
   "id": "bc405901-c217-4265-b51d-9ecf5d1aa082",
   "metadata": {},
   "source": [
    "This is a CSV dataset that consist of the review of each customer on various amazon products..."
   ]
  },
  {
   "cell_type": "code",
   "execution_count": 2,
   "id": "04bca7c3-9cf7-4218-8295-3628195403ab",
   "metadata": {},
   "outputs": [],
   "source": [
    "df = pd . read_csv('AM_product_review.csv')"
   ]
  },
  {
   "cell_type": "code",
   "execution_count": 3,
   "id": "e319ff1f-5679-478d-a39d-f50cb2b73db6",
   "metadata": {},
   "outputs": [
    {
     "data": {
      "text/html": [
       "<div>\n",
       "<style scoped>\n",
       "    .dataframe tbody tr th:only-of-type {\n",
       "        vertical-align: middle;\n",
       "    }\n",
       "\n",
       "    .dataframe tbody tr th {\n",
       "        vertical-align: top;\n",
       "    }\n",
       "\n",
       "    .dataframe thead th {\n",
       "        text-align: right;\n",
       "    }\n",
       "</style>\n",
       "<table border=\"1\" class=\"dataframe\">\n",
       "  <thead>\n",
       "    <tr style=\"text-align: right;\">\n",
       "      <th></th>\n",
       "      <th>ReviewTitle</th>\n",
       "      <th>ReviewBody</th>\n",
       "      <th>ReviewStar</th>\n",
       "      <th>Product</th>\n",
       "    </tr>\n",
       "  </thead>\n",
       "  <tbody>\n",
       "    <tr>\n",
       "      <th>0</th>\n",
       "      <td>Honest review of an edm music lover\\n</td>\n",
       "      <td>No doubt it has a great bass and to a great ex...</td>\n",
       "      <td>3</td>\n",
       "      <td>boAt Rockerz 255</td>\n",
       "    </tr>\n",
       "    <tr>\n",
       "      <th>1</th>\n",
       "      <td>Unreliable earphones with high cost\\n</td>\n",
       "      <td>This  earphones are unreliable, i bought it be...</td>\n",
       "      <td>1</td>\n",
       "      <td>boAt Rockerz 255</td>\n",
       "    </tr>\n",
       "    <tr>\n",
       "      <th>2</th>\n",
       "      <td>Really good and durable.\\n</td>\n",
       "      <td>i bought itfor 999,I purchased it second time,...</td>\n",
       "      <td>4</td>\n",
       "      <td>boAt Rockerz 255</td>\n",
       "    </tr>\n",
       "    <tr>\n",
       "      <th>3</th>\n",
       "      <td>stopped working in just 14 days\\n</td>\n",
       "      <td>Its sound quality is adorable. overall it was ...</td>\n",
       "      <td>1</td>\n",
       "      <td>boAt Rockerz 255</td>\n",
       "    </tr>\n",
       "    <tr>\n",
       "      <th>4</th>\n",
       "      <td>Just Awesome Wireless Headphone under 1000...😉\\n</td>\n",
       "      <td>Its Awesome... Good sound quality &amp; 8-9 hrs ba...</td>\n",
       "      <td>5</td>\n",
       "      <td>boAt Rockerz 255</td>\n",
       "    </tr>\n",
       "  </tbody>\n",
       "</table>\n",
       "</div>"
      ],
      "text/plain": [
       "                                        ReviewTitle  \\\n",
       "0             Honest review of an edm music lover\\n   \n",
       "1             Unreliable earphones with high cost\\n   \n",
       "2                        Really good and durable.\\n   \n",
       "3                 stopped working in just 14 days\\n   \n",
       "4  Just Awesome Wireless Headphone under 1000...😉\\n   \n",
       "\n",
       "                                          ReviewBody  ReviewStar  \\\n",
       "0  No doubt it has a great bass and to a great ex...           3   \n",
       "1  This  earphones are unreliable, i bought it be...           1   \n",
       "2  i bought itfor 999,I purchased it second time,...           4   \n",
       "3  Its sound quality is adorable. overall it was ...           1   \n",
       "4  Its Awesome... Good sound quality & 8-9 hrs ba...           5   \n",
       "\n",
       "            Product  \n",
       "0  boAt Rockerz 255  \n",
       "1  boAt Rockerz 255  \n",
       "2  boAt Rockerz 255  \n",
       "3  boAt Rockerz 255  \n",
       "4  boAt Rockerz 255  "
      ]
     },
     "execution_count": 3,
     "metadata": {},
     "output_type": "execute_result"
    }
   ],
   "source": [
    "df.head() # Read first 5 rows"
   ]
  },
  {
   "cell_type": "code",
   "execution_count": 4,
   "id": "844c25f0-65f6-4e32-ab87-3ffc59063328",
   "metadata": {},
   "outputs": [
    {
     "data": {
      "text/plain": [
       "(14337, 4)"
      ]
     },
     "execution_count": 4,
     "metadata": {},
     "output_type": "execute_result"
    }
   ],
   "source": [
    "df.shape #The data also consist of \"143377\" Rows and \"4\" columns"
   ]
  },
  {
   "cell_type": "code",
   "execution_count": 5,
   "id": "2a61eb45-717f-48a9-9914-d03eecfc3fa5",
   "metadata": {},
   "outputs": [
    {
     "name": "stdout",
     "output_type": "stream",
     "text": [
      "<class 'pandas.core.frame.DataFrame'>\n",
      "RangeIndex: 14337 entries, 0 to 14336\n",
      "Data columns (total 4 columns):\n",
      " #   Column       Non-Null Count  Dtype \n",
      "---  ------       --------------  ----- \n",
      " 0   ReviewTitle  14337 non-null  object\n",
      " 1   ReviewBody   14337 non-null  object\n",
      " 2   ReviewStar   14337 non-null  int64 \n",
      " 3   Product      14337 non-null  object\n",
      "dtypes: int64(1), object(3)\n",
      "memory usage: 448.2+ KB\n"
     ]
    }
   ],
   "source": [
    "df.info() # The data also consist of only one numerical column...which is the review star of each product"
   ]
  },
  {
   "cell_type": "code",
   "execution_count": 6,
   "id": "4f3ac247-b72e-4c8c-af8a-e135eb2b641b",
   "metadata": {},
   "outputs": [
    {
     "data": {
      "text/plain": [
       "ReviewTitle    0\n",
       "ReviewBody     0\n",
       "ReviewStar     0\n",
       "Product        0\n",
       "dtype: int64"
      ]
     },
     "execution_count": 6,
     "metadata": {},
     "output_type": "execute_result"
    }
   ],
   "source": [
    "df.isna().sum() # Checking if missing values is present in the data."
   ]
  },
  {
   "cell_type": "code",
   "execution_count": 7,
   "id": "f42bd334-7cac-4cbc-a324-9856efb724a7",
   "metadata": {},
   "outputs": [
    {
     "data": {
      "text/plain": [
       "5    6213\n",
       "4    3189\n",
       "1    2493\n",
       "3    1503\n",
       "2     939\n",
       "Name: ReviewStar, dtype: int64"
      ]
     },
     "execution_count": 7,
     "metadata": {},
     "output_type": "execute_result"
    }
   ],
   "source": [
    "df.ReviewStar.value_counts() # Checking the count of the unique value in the \"Review Star\" column."
   ]
  },
  {
   "cell_type": "code",
   "execution_count": 8,
   "id": "e6701fde-5e93-4d92-8296-7fdb1dcd5255",
   "metadata": {},
   "outputs": [
    {
     "data": {
      "text/plain": [
       "boAt Rockerz 255         5000\n",
       "Sennheiser CX 6.0BT      5000\n",
       "JBL T110BT               1922\n",
       "JBL T205BT               1411\n",
       "PTron Intunes             254\n",
       "Skullcandy S2PGHW-174     239\n",
       "Samsung EO-BG950CBEIN     224\n",
       "Flybot Wave               182\n",
       "Flybot Boom                82\n",
       "Flybot Beat                23\n",
       "Name: Product, dtype: int64"
      ]
     },
     "execution_count": 8,
     "metadata": {},
     "output_type": "execute_result"
    }
   ],
   "source": [
    "df.Product.value_counts() # Checking the unique value in the \"Product\" column."
   ]
  },
  {
   "cell_type": "code",
   "execution_count": null,
   "id": "e1527f0d-ff2d-44c6-955f-06ecabda0cbd",
   "metadata": {},
   "outputs": [],
   "source": []
  },
  {
   "cell_type": "markdown",
   "id": "9731cb23-89aa-4daf-8a15-6f62d7335b7f",
   "metadata": {},
   "source": [
    "##### Droping the \"Review Title\" column in the dataSet and perform the analysis on the \"Review Body\" column..."
   ]
  },
  {
   "cell_type": "code",
   "execution_count": 9,
   "id": "30e91d56-500b-4cce-932c-d25693d3b00b",
   "metadata": {},
   "outputs": [],
   "source": [
    "#Slicing our dataFrame to exclude the Review Title column\n",
    "df = df[['Product','ReviewBody','ReviewStar']]"
   ]
  },
  {
   "cell_type": "code",
   "execution_count": 10,
   "id": "2d1fae68-10b8-4c19-a6df-373e45f9ebeb",
   "metadata": {},
   "outputs": [
    {
     "data": {
      "text/html": [
       "<div>\n",
       "<style scoped>\n",
       "    .dataframe tbody tr th:only-of-type {\n",
       "        vertical-align: middle;\n",
       "    }\n",
       "\n",
       "    .dataframe tbody tr th {\n",
       "        vertical-align: top;\n",
       "    }\n",
       "\n",
       "    .dataframe thead th {\n",
       "        text-align: right;\n",
       "    }\n",
       "</style>\n",
       "<table border=\"1\" class=\"dataframe\">\n",
       "  <thead>\n",
       "    <tr style=\"text-align: right;\">\n",
       "      <th></th>\n",
       "      <th>Product</th>\n",
       "      <th>ReviewBody</th>\n",
       "      <th>ReviewStar</th>\n",
       "    </tr>\n",
       "  </thead>\n",
       "  <tbody>\n",
       "    <tr>\n",
       "      <th>0</th>\n",
       "      <td>boAt Rockerz 255</td>\n",
       "      <td>No doubt it has a great bass and to a great ex...</td>\n",
       "      <td>3</td>\n",
       "    </tr>\n",
       "    <tr>\n",
       "      <th>1</th>\n",
       "      <td>boAt Rockerz 255</td>\n",
       "      <td>This  earphones are unreliable, i bought it be...</td>\n",
       "      <td>1</td>\n",
       "    </tr>\n",
       "    <tr>\n",
       "      <th>2</th>\n",
       "      <td>boAt Rockerz 255</td>\n",
       "      <td>i bought itfor 999,I purchased it second time,...</td>\n",
       "      <td>4</td>\n",
       "    </tr>\n",
       "    <tr>\n",
       "      <th>3</th>\n",
       "      <td>boAt Rockerz 255</td>\n",
       "      <td>Its sound quality is adorable. overall it was ...</td>\n",
       "      <td>1</td>\n",
       "    </tr>\n",
       "    <tr>\n",
       "      <th>4</th>\n",
       "      <td>boAt Rockerz 255</td>\n",
       "      <td>Its Awesome... Good sound quality &amp; 8-9 hrs ba...</td>\n",
       "      <td>5</td>\n",
       "    </tr>\n",
       "  </tbody>\n",
       "</table>\n",
       "</div>"
      ],
      "text/plain": [
       "            Product                                         ReviewBody  \\\n",
       "0  boAt Rockerz 255  No doubt it has a great bass and to a great ex...   \n",
       "1  boAt Rockerz 255  This  earphones are unreliable, i bought it be...   \n",
       "2  boAt Rockerz 255  i bought itfor 999,I purchased it second time,...   \n",
       "3  boAt Rockerz 255  Its sound quality is adorable. overall it was ...   \n",
       "4  boAt Rockerz 255  Its Awesome... Good sound quality & 8-9 hrs ba...   \n",
       "\n",
       "   ReviewStar  \n",
       "0           3  \n",
       "1           1  \n",
       "2           4  \n",
       "3           1  \n",
       "4           5  "
      ]
     },
     "execution_count": 10,
     "metadata": {},
     "output_type": "execute_result"
    }
   ],
   "source": [
    "df.head()\n",
    "# Verifying if the dataFrame is correctly sliced"
   ]
  },
  {
   "cell_type": "markdown",
   "id": "7a5effff-720c-419e-bb60-6b4797310808",
   "metadata": {
    "tags": []
   },
   "source": [
    "##### Overwriting the entries in the \"Product Review\" column...this is going to be achieved through\n",
    "##### python dictionary mapping..\n",
    "##### I'm going to make any customer review that is:\n",
    "##### (1) Less than or equal to 2 <- Negative\n",
    "##### (2) Equal to 3 <- Neutral\n",
    "##### (3) Greater than or equal to 4 <- Positive"
   ]
  },
  {
   "cell_type": "code",
   "execution_count": 11,
   "id": "19649a5c-0892-4f28-b997-a08932b16d78",
   "metadata": {},
   "outputs": [
    {
     "name": "stdout",
     "output_type": "stream",
     "text": [
      "{1: 'Negative', 2: 'Negative', 3: 'Neutral', 4: 'Positive', 5: 'Positive'}\n"
     ]
    }
   ],
   "source": [
    "mapping ={1:'Negative', 2:'Negative', 3:'Neutral',4:'Positive',5:'Positive'}\n",
    "print(mapping)"
   ]
  },
  {
   "cell_type": "code",
   "execution_count": 12,
   "id": "b8d1b581-a6bd-47e6-a184-c2dbc4177fb8",
   "metadata": {},
   "outputs": [],
   "source": [
    "df.loc[:,'ReviewStar'] = df.ReviewStar.map(mapping) # Applying the mapping"
   ]
  },
  {
   "cell_type": "code",
   "execution_count": 13,
   "id": "cd8b0688-c1c4-4745-99da-b4d89de1d0be",
   "metadata": {},
   "outputs": [
    {
     "data": {
      "text/html": [
       "<div>\n",
       "<style scoped>\n",
       "    .dataframe tbody tr th:only-of-type {\n",
       "        vertical-align: middle;\n",
       "    }\n",
       "\n",
       "    .dataframe tbody tr th {\n",
       "        vertical-align: top;\n",
       "    }\n",
       "\n",
       "    .dataframe thead th {\n",
       "        text-align: right;\n",
       "    }\n",
       "</style>\n",
       "<table border=\"1\" class=\"dataframe\">\n",
       "  <thead>\n",
       "    <tr style=\"text-align: right;\">\n",
       "      <th></th>\n",
       "      <th>Product</th>\n",
       "      <th>ReviewBody</th>\n",
       "      <th>ReviewStar</th>\n",
       "    </tr>\n",
       "  </thead>\n",
       "  <tbody>\n",
       "    <tr>\n",
       "      <th>0</th>\n",
       "      <td>boAt Rockerz 255</td>\n",
       "      <td>No doubt it has a great bass and to a great ex...</td>\n",
       "      <td>Neutral</td>\n",
       "    </tr>\n",
       "    <tr>\n",
       "      <th>1</th>\n",
       "      <td>boAt Rockerz 255</td>\n",
       "      <td>This  earphones are unreliable, i bought it be...</td>\n",
       "      <td>Negative</td>\n",
       "    </tr>\n",
       "    <tr>\n",
       "      <th>2</th>\n",
       "      <td>boAt Rockerz 255</td>\n",
       "      <td>i bought itfor 999,I purchased it second time,...</td>\n",
       "      <td>Positive</td>\n",
       "    </tr>\n",
       "    <tr>\n",
       "      <th>3</th>\n",
       "      <td>boAt Rockerz 255</td>\n",
       "      <td>Its sound quality is adorable. overall it was ...</td>\n",
       "      <td>Negative</td>\n",
       "    </tr>\n",
       "    <tr>\n",
       "      <th>4</th>\n",
       "      <td>boAt Rockerz 255</td>\n",
       "      <td>Its Awesome... Good sound quality &amp; 8-9 hrs ba...</td>\n",
       "      <td>Positive</td>\n",
       "    </tr>\n",
       "  </tbody>\n",
       "</table>\n",
       "</div>"
      ],
      "text/plain": [
       "            Product                                         ReviewBody  \\\n",
       "0  boAt Rockerz 255  No doubt it has a great bass and to a great ex...   \n",
       "1  boAt Rockerz 255  This  earphones are unreliable, i bought it be...   \n",
       "2  boAt Rockerz 255  i bought itfor 999,I purchased it second time,...   \n",
       "3  boAt Rockerz 255  Its sound quality is adorable. overall it was ...   \n",
       "4  boAt Rockerz 255  Its Awesome... Good sound quality & 8-9 hrs ba...   \n",
       "\n",
       "  ReviewStar  \n",
       "0    Neutral  \n",
       "1   Negative  \n",
       "2   Positive  \n",
       "3   Negative  \n",
       "4   Positive  "
      ]
     },
     "execution_count": 13,
     "metadata": {},
     "output_type": "execute_result"
    }
   ],
   "source": [
    "df.head()\n",
    "# Checking if our dataFrame has been mapped(changed)"
   ]
  },
  {
   "cell_type": "code",
   "execution_count": null,
   "id": "ff8a26a9-0247-4c30-878f-772960586bc1",
   "metadata": {},
   "outputs": [],
   "source": []
  },
  {
   "cell_type": "markdown",
   "id": "4bb82c24-4ce1-46bd-b62e-4c8064aaa935",
   "metadata": {},
   "source": [
    "##### Importing the python library(NLTK) which is very good and perfect in analyzing text data...\n",
    "##### Some libraries inside NLTK will be used to clean the data such as removing STOPWORDS, PUNCUATIONS, NUMBERS etc. "
   ]
  },
  {
   "cell_type": "code",
   "execution_count": 14,
   "id": "18b0c684-b04d-443b-b9da-2ef7d8e6289a",
   "metadata": {},
   "outputs": [],
   "source": [
    "import nltk\n",
    "from nltk.corpus import stopwords #Import StopWords "
   ]
  },
  {
   "cell_type": "markdown",
   "id": "95c0718c-6f9e-4155-9769-d566000220e6",
   "metadata": {},
   "source": [
    "##### The stopwords.. consists of various words that we commonly used in our daily english speaking..\n",
    "\n",
    "##### Example are (the,and,don't). StopWords will be removed from the text since it is not meaningful for the analysis.\n",
    "\n",
    "##### It's very important to clean the data first ... because looking at the data, it's very messy and contains \n",
    "\n",
    "##### a lot of unwanted words and character that are not useful for the analysis. "
   ]
  },
  {
   "cell_type": "code",
   "execution_count": 15,
   "id": "29e4432c-8913-4d45-af7b-22611ccda3b3",
   "metadata": {},
   "outputs": [
    {
     "name": "stdout",
     "output_type": "stream",
     "text": [
      "['i', 'me', 'my', 'myself', 'we', 'our', 'ours', 'ourselves', 'you', \"you're\", \"you've\", \"you'll\", \"you'd\", 'your', 'yours', 'yourself', 'yourselves', 'he', 'him', 'his', 'himself', 'she', \"she's\", 'her', 'hers', 'herself', 'it', \"it's\", 'its', 'itself', 'they', 'them', 'their', 'theirs', 'themselves', 'what', 'which', 'who', 'whom', 'this', 'that', \"that'll\", 'these', 'those', 'am', 'is', 'are', 'was', 'were', 'be', 'been', 'being', 'have', 'has', 'had', 'having', 'do', 'does', 'did', 'doing', 'a', 'an', 'the', 'and', 'but', 'if', 'or', 'because', 'as', 'until', 'while', 'of', 'at', 'by', 'for', 'with', 'about', 'against', 'between', 'into', 'through', 'during', 'before', 'after', 'above', 'below', 'to', 'from', 'up', 'down', 'in', 'out', 'on', 'off', 'over', 'under', 'again', 'further', 'then', 'once', 'here', 'there', 'when', 'where', 'why', 'how', 'all', 'any', 'both', 'each', 'few', 'more', 'most', 'other', 'some', 'such', 'no', 'nor', 'not', 'only', 'own', 'same', 'so', 'than', 'too', 'very', 's', 't', 'can', 'will', 'just', 'don', \"don't\", 'should', \"should've\", 'now', 'd', 'll', 'm', 'o', 're', 've', 'y', 'ain', 'aren', \"aren't\", 'couldn', \"couldn't\", 'didn', \"didn't\", 'doesn', \"doesn't\", 'hadn', \"hadn't\", 'hasn', \"hasn't\", 'haven', \"haven't\", 'isn', \"isn't\", 'ma', 'mightn', \"mightn't\", 'mustn', \"mustn't\", 'needn', \"needn't\", 'shan', \"shan't\", 'shouldn', \"shouldn't\", 'wasn', \"wasn't\", 'weren', \"weren't\", 'won', \"won't\", 'wouldn', \"wouldn't\"]\n"
     ]
    }
   ],
   "source": [
    "print((nltk.corpus.stopwords.words('english')))"
   ]
  },
  {
   "cell_type": "code",
   "execution_count": null,
   "id": "38dcbd29-ee5b-4ad2-b843-80e9f88daaf9",
   "metadata": {},
   "outputs": [],
   "source": []
  },
  {
   "cell_type": "code",
   "execution_count": 16,
   "id": "1ca2b9f5-090e-4e5c-911a-99296774d007",
   "metadata": {},
   "outputs": [
    {
     "name": "stdout",
     "output_type": "stream",
     "text": [
      "!\"#$%&'()*+,-./:;<=>?@[\\]^_`{|}~\n"
     ]
    }
   ],
   "source": [
    "import string\n",
    "print(string.punctuation)"
   ]
  },
  {
   "cell_type": "code",
   "execution_count": 17,
   "id": "32bf74c9-f3c6-495a-a34c-69b67cf118d6",
   "metadata": {},
   "outputs": [],
   "source": [
    "df.ReviewBody = df.ReviewBody.str.lower() # Converting the Reviewbody column to lowercase"
   ]
  },
  {
   "cell_type": "code",
   "execution_count": 18,
   "id": "0d4a7267-0fea-4f26-930a-fb89be65201f",
   "metadata": {},
   "outputs": [
    {
     "data": {
      "text/html": [
       "<div>\n",
       "<style scoped>\n",
       "    .dataframe tbody tr th:only-of-type {\n",
       "        vertical-align: middle;\n",
       "    }\n",
       "\n",
       "    .dataframe tbody tr th {\n",
       "        vertical-align: top;\n",
       "    }\n",
       "\n",
       "    .dataframe thead th {\n",
       "        text-align: right;\n",
       "    }\n",
       "</style>\n",
       "<table border=\"1\" class=\"dataframe\">\n",
       "  <thead>\n",
       "    <tr style=\"text-align: right;\">\n",
       "      <th></th>\n",
       "      <th>Product</th>\n",
       "      <th>ReviewBody</th>\n",
       "      <th>ReviewStar</th>\n",
       "    </tr>\n",
       "  </thead>\n",
       "  <tbody>\n",
       "    <tr>\n",
       "      <th>0</th>\n",
       "      <td>boAt Rockerz 255</td>\n",
       "      <td>no doubt it has a great bass and to a great ex...</td>\n",
       "      <td>Neutral</td>\n",
       "    </tr>\n",
       "    <tr>\n",
       "      <th>1</th>\n",
       "      <td>boAt Rockerz 255</td>\n",
       "      <td>this  earphones are unreliable, i bought it be...</td>\n",
       "      <td>Negative</td>\n",
       "    </tr>\n",
       "    <tr>\n",
       "      <th>2</th>\n",
       "      <td>boAt Rockerz 255</td>\n",
       "      <td>i bought itfor 999,i purchased it second time,...</td>\n",
       "      <td>Positive</td>\n",
       "    </tr>\n",
       "    <tr>\n",
       "      <th>3</th>\n",
       "      <td>boAt Rockerz 255</td>\n",
       "      <td>its sound quality is adorable. overall it was ...</td>\n",
       "      <td>Negative</td>\n",
       "    </tr>\n",
       "    <tr>\n",
       "      <th>4</th>\n",
       "      <td>boAt Rockerz 255</td>\n",
       "      <td>its awesome... good sound quality &amp; 8-9 hrs ba...</td>\n",
       "      <td>Positive</td>\n",
       "    </tr>\n",
       "  </tbody>\n",
       "</table>\n",
       "</div>"
      ],
      "text/plain": [
       "            Product                                         ReviewBody  \\\n",
       "0  boAt Rockerz 255  no doubt it has a great bass and to a great ex...   \n",
       "1  boAt Rockerz 255  this  earphones are unreliable, i bought it be...   \n",
       "2  boAt Rockerz 255  i bought itfor 999,i purchased it second time,...   \n",
       "3  boAt Rockerz 255  its sound quality is adorable. overall it was ...   \n",
       "4  boAt Rockerz 255  its awesome... good sound quality & 8-9 hrs ba...   \n",
       "\n",
       "  ReviewStar  \n",
       "0    Neutral  \n",
       "1   Negative  \n",
       "2   Positive  \n",
       "3   Negative  \n",
       "4   Positive  "
      ]
     },
     "execution_count": 18,
     "metadata": {},
     "output_type": "execute_result"
    }
   ],
   "source": [
    "df.head()"
   ]
  },
  {
   "cell_type": "code",
   "execution_count": 19,
   "id": "49d2140a-f6ca-49a5-ad39-a39d33e44595",
   "metadata": {},
   "outputs": [],
   "source": [
    "stop = stopwords.words('english')\n",
    "punc = string.punctuation\n",
    "number = (string.digits) "
   ]
  },
  {
   "cell_type": "markdown",
   "id": "97e770b3-7271-4ded-af07-2c01800869bc",
   "metadata": {},
   "source": [
    "##### The ReviewBody column contains the customer expression about how they feel after buying a particular \n",
    "\n",
    "##### product. Therefore this is the column where i am going extract the Relevant KeyWords from. "
   ]
  },
  {
   "cell_type": "code",
   "execution_count": 20,
   "id": "0bb0e366-1eb1-4cbf-9549-995fb22a8547",
   "metadata": {},
   "outputs": [],
   "source": [
    "# Removing \"stopWords, punctuations and Numbers and assigning the result in a new column df['ReviewCleaned']\"\n",
    "df['Cleaned_Review'] = df.ReviewBody.apply(lambda x: ' '.join([word for word in x.split() if word not in stop \\\n",
    "                                        and word not in punc \\\n",
    "                                        and word not in number]))"
   ]
  },
  {
   "cell_type": "code",
   "execution_count": 21,
   "id": "eb6b2b1d-2158-4a3e-af2d-dcff2bfe54cb",
   "metadata": {},
   "outputs": [
    {
     "data": {
      "text/html": [
       "<div>\n",
       "<style scoped>\n",
       "    .dataframe tbody tr th:only-of-type {\n",
       "        vertical-align: middle;\n",
       "    }\n",
       "\n",
       "    .dataframe tbody tr th {\n",
       "        vertical-align: top;\n",
       "    }\n",
       "\n",
       "    .dataframe thead th {\n",
       "        text-align: right;\n",
       "    }\n",
       "</style>\n",
       "<table border=\"1\" class=\"dataframe\">\n",
       "  <thead>\n",
       "    <tr style=\"text-align: right;\">\n",
       "      <th></th>\n",
       "      <th>Product</th>\n",
       "      <th>ReviewBody</th>\n",
       "      <th>ReviewStar</th>\n",
       "      <th>Cleaned_Review</th>\n",
       "    </tr>\n",
       "  </thead>\n",
       "  <tbody>\n",
       "    <tr>\n",
       "      <th>0</th>\n",
       "      <td>boAt Rockerz 255</td>\n",
       "      <td>no doubt it has a great bass and to a great ex...</td>\n",
       "      <td>Neutral</td>\n",
       "      <td>doubt great bass great extent noise cancellati...</td>\n",
       "    </tr>\n",
       "    <tr>\n",
       "      <th>1</th>\n",
       "      <td>boAt Rockerz 255</td>\n",
       "      <td>this  earphones are unreliable, i bought it be...</td>\n",
       "      <td>Negative</td>\n",
       "      <td>earphones unreliable, bought 15 days meanwhile...</td>\n",
       "    </tr>\n",
       "    <tr>\n",
       "      <th>2</th>\n",
       "      <td>boAt Rockerz 255</td>\n",
       "      <td>i bought itfor 999,i purchased it second time,...</td>\n",
       "      <td>Positive</td>\n",
       "      <td>bought itfor 999,i purchased second time, gift...</td>\n",
       "    </tr>\n",
       "    <tr>\n",
       "      <th>3</th>\n",
       "      <td>boAt Rockerz 255</td>\n",
       "      <td>its sound quality is adorable. overall it was ...</td>\n",
       "      <td>Negative</td>\n",
       "      <td>sound quality adorable. overall good weeks sto...</td>\n",
       "    </tr>\n",
       "    <tr>\n",
       "      <th>4</th>\n",
       "      <td>boAt Rockerz 255</td>\n",
       "      <td>its awesome... good sound quality &amp; 8-9 hrs ba...</td>\n",
       "      <td>Positive</td>\n",
       "      <td>awesome... good sound quality 8-9 hrs battery ...</td>\n",
       "    </tr>\n",
       "  </tbody>\n",
       "</table>\n",
       "</div>"
      ],
      "text/plain": [
       "            Product                                         ReviewBody  \\\n",
       "0  boAt Rockerz 255  no doubt it has a great bass and to a great ex...   \n",
       "1  boAt Rockerz 255  this  earphones are unreliable, i bought it be...   \n",
       "2  boAt Rockerz 255  i bought itfor 999,i purchased it second time,...   \n",
       "3  boAt Rockerz 255  its sound quality is adorable. overall it was ...   \n",
       "4  boAt Rockerz 255  its awesome... good sound quality & 8-9 hrs ba...   \n",
       "\n",
       "  ReviewStar                                     Cleaned_Review  \n",
       "0    Neutral  doubt great bass great extent noise cancellati...  \n",
       "1   Negative  earphones unreliable, bought 15 days meanwhile...  \n",
       "2   Positive  bought itfor 999,i purchased second time, gift...  \n",
       "3   Negative  sound quality adorable. overall good weeks sto...  \n",
       "4   Positive  awesome... good sound quality 8-9 hrs battery ...  "
      ]
     },
     "execution_count": 21,
     "metadata": {},
     "output_type": "execute_result"
    }
   ],
   "source": [
    "df.head()"
   ]
  },
  {
   "cell_type": "code",
   "execution_count": 22,
   "id": "72255df3-faf0-4d67-ad9b-535985d4d6aa",
   "metadata": {},
   "outputs": [],
   "source": [
    "# Removing unwanted character using python \"re\" module\n",
    "df.Cleaned_Review = df.Cleaned_Review.apply(lambda x: ''.join([word for word in re.sub(r\"(/|-|!|[0-9]|%|$|@|[(|)])\",'',x)]))"
   ]
  },
  {
   "cell_type": "code",
   "execution_count": 23,
   "id": "80cfd9de-4a25-41cc-ae0a-253a614c138c",
   "metadata": {},
   "outputs": [
    {
     "data": {
      "text/html": [
       "<div>\n",
       "<style scoped>\n",
       "    .dataframe tbody tr th:only-of-type {\n",
       "        vertical-align: middle;\n",
       "    }\n",
       "\n",
       "    .dataframe tbody tr th {\n",
       "        vertical-align: top;\n",
       "    }\n",
       "\n",
       "    .dataframe thead th {\n",
       "        text-align: right;\n",
       "    }\n",
       "</style>\n",
       "<table border=\"1\" class=\"dataframe\">\n",
       "  <thead>\n",
       "    <tr style=\"text-align: right;\">\n",
       "      <th></th>\n",
       "      <th>Product</th>\n",
       "      <th>ReviewBody</th>\n",
       "      <th>ReviewStar</th>\n",
       "      <th>Cleaned_Review</th>\n",
       "    </tr>\n",
       "  </thead>\n",
       "  <tbody>\n",
       "    <tr>\n",
       "      <th>0</th>\n",
       "      <td>boAt Rockerz 255</td>\n",
       "      <td>no doubt it has a great bass and to a great ex...</td>\n",
       "      <td>Neutral</td>\n",
       "      <td>doubt great bass great extent noise cancellati...</td>\n",
       "    </tr>\n",
       "    <tr>\n",
       "      <th>1</th>\n",
       "      <td>boAt Rockerz 255</td>\n",
       "      <td>this  earphones are unreliable, i bought it be...</td>\n",
       "      <td>Negative</td>\n",
       "      <td>earphones unreliable, bought  days meanwhile r...</td>\n",
       "    </tr>\n",
       "    <tr>\n",
       "      <th>2</th>\n",
       "      <td>boAt Rockerz 255</td>\n",
       "      <td>i bought itfor 999,i purchased it second time,...</td>\n",
       "      <td>Positive</td>\n",
       "      <td>bought itfor ,i purchased second time, gifted ...</td>\n",
       "    </tr>\n",
       "    <tr>\n",
       "      <th>3</th>\n",
       "      <td>boAt Rockerz 255</td>\n",
       "      <td>its sound quality is adorable. overall it was ...</td>\n",
       "      <td>Negative</td>\n",
       "      <td>sound quality adorable. overall good weeks sto...</td>\n",
       "    </tr>\n",
       "    <tr>\n",
       "      <th>4</th>\n",
       "      <td>boAt Rockerz 255</td>\n",
       "      <td>its awesome... good sound quality &amp; 8-9 hrs ba...</td>\n",
       "      <td>Positive</td>\n",
       "      <td>awesome... good sound quality  hrs battery lif...</td>\n",
       "    </tr>\n",
       "  </tbody>\n",
       "</table>\n",
       "</div>"
      ],
      "text/plain": [
       "            Product                                         ReviewBody  \\\n",
       "0  boAt Rockerz 255  no doubt it has a great bass and to a great ex...   \n",
       "1  boAt Rockerz 255  this  earphones are unreliable, i bought it be...   \n",
       "2  boAt Rockerz 255  i bought itfor 999,i purchased it second time,...   \n",
       "3  boAt Rockerz 255  its sound quality is adorable. overall it was ...   \n",
       "4  boAt Rockerz 255  its awesome... good sound quality & 8-9 hrs ba...   \n",
       "\n",
       "  ReviewStar                                     Cleaned_Review  \n",
       "0    Neutral  doubt great bass great extent noise cancellati...  \n",
       "1   Negative  earphones unreliable, bought  days meanwhile r...  \n",
       "2   Positive  bought itfor ,i purchased second time, gifted ...  \n",
       "3   Negative  sound quality adorable. overall good weeks sto...  \n",
       "4   Positive  awesome... good sound quality  hrs battery lif...  "
      ]
     },
     "execution_count": 23,
     "metadata": {},
     "output_type": "execute_result"
    }
   ],
   "source": [
    "df.head()"
   ]
  },
  {
   "cell_type": "code",
   "execution_count": 24,
   "id": "3589bd22-abb5-45f8-b053-78183ba43d7f",
   "metadata": {},
   "outputs": [],
   "source": [
    "# Importing Textblob libraries which is used to convert word to there root meaning eg(worked = work)\n",
    "from textblob import TextBlob as tb\n",
    "from textblob import Word"
   ]
  },
  {
   "cell_type": "code",
   "execution_count": 25,
   "id": "05135cb5-5a70-4e42-97b8-fb8269d016af",
   "metadata": {},
   "outputs": [
    {
     "data": {
      "text/plain": [
       "'work'"
      ]
     },
     "execution_count": 25,
     "metadata": {},
     "output_type": "execute_result"
    }
   ],
   "source": [
    "Word('worked').lemmatize('v')"
   ]
  },
  {
   "cell_type": "code",
   "execution_count": 26,
   "id": "666408bc-bd66-4881-aaf8-d5ca50c483f5",
   "metadata": {},
   "outputs": [],
   "source": [
    "#applying lemmatization on the \"ReviewCleaned\" column\n",
    "df.Cleaned_Review = df.Cleaned_Review.apply(lambda x: ' '.join([Word(word).lemmatize() for word in x.split() if word !='']))"
   ]
  },
  {
   "cell_type": "code",
   "execution_count": 27,
   "id": "addefb64-da6b-4934-9f79-21df1c89091d",
   "metadata": {},
   "outputs": [
    {
     "data": {
      "text/html": [
       "<div>\n",
       "<style scoped>\n",
       "    .dataframe tbody tr th:only-of-type {\n",
       "        vertical-align: middle;\n",
       "    }\n",
       "\n",
       "    .dataframe tbody tr th {\n",
       "        vertical-align: top;\n",
       "    }\n",
       "\n",
       "    .dataframe thead th {\n",
       "        text-align: right;\n",
       "    }\n",
       "</style>\n",
       "<table border=\"1\" class=\"dataframe\">\n",
       "  <thead>\n",
       "    <tr style=\"text-align: right;\">\n",
       "      <th></th>\n",
       "      <th>Product</th>\n",
       "      <th>ReviewBody</th>\n",
       "      <th>ReviewStar</th>\n",
       "      <th>Cleaned_Review</th>\n",
       "    </tr>\n",
       "  </thead>\n",
       "  <tbody>\n",
       "    <tr>\n",
       "      <th>0</th>\n",
       "      <td>boAt Rockerz 255</td>\n",
       "      <td>no doubt it has a great bass and to a great ex...</td>\n",
       "      <td>Neutral</td>\n",
       "      <td>doubt great bass great extent noise cancellati...</td>\n",
       "    </tr>\n",
       "    <tr>\n",
       "      <th>1</th>\n",
       "      <td>boAt Rockerz 255</td>\n",
       "      <td>this  earphones are unreliable, i bought it be...</td>\n",
       "      <td>Negative</td>\n",
       "      <td>earphone unreliable, bought day meanwhile righ...</td>\n",
       "    </tr>\n",
       "    <tr>\n",
       "      <th>2</th>\n",
       "      <td>boAt Rockerz 255</td>\n",
       "      <td>i bought itfor 999,i purchased it second time,...</td>\n",
       "      <td>Positive</td>\n",
       "      <td>bought itfor ,i purchased second time, gifted ...</td>\n",
       "    </tr>\n",
       "    <tr>\n",
       "      <th>3</th>\n",
       "      <td>boAt Rockerz 255</td>\n",
       "      <td>its sound quality is adorable. overall it was ...</td>\n",
       "      <td>Negative</td>\n",
       "      <td>sound quality adorable. overall good week stop...</td>\n",
       "    </tr>\n",
       "    <tr>\n",
       "      <th>4</th>\n",
       "      <td>boAt Rockerz 255</td>\n",
       "      <td>its awesome... good sound quality &amp; 8-9 hrs ba...</td>\n",
       "      <td>Positive</td>\n",
       "      <td>awesome... good sound quality hr battery life....</td>\n",
       "    </tr>\n",
       "  </tbody>\n",
       "</table>\n",
       "</div>"
      ],
      "text/plain": [
       "            Product                                         ReviewBody  \\\n",
       "0  boAt Rockerz 255  no doubt it has a great bass and to a great ex...   \n",
       "1  boAt Rockerz 255  this  earphones are unreliable, i bought it be...   \n",
       "2  boAt Rockerz 255  i bought itfor 999,i purchased it second time,...   \n",
       "3  boAt Rockerz 255  its sound quality is adorable. overall it was ...   \n",
       "4  boAt Rockerz 255  its awesome... good sound quality & 8-9 hrs ba...   \n",
       "\n",
       "  ReviewStar                                     Cleaned_Review  \n",
       "0    Neutral  doubt great bass great extent noise cancellati...  \n",
       "1   Negative  earphone unreliable, bought day meanwhile righ...  \n",
       "2   Positive  bought itfor ,i purchased second time, gifted ...  \n",
       "3   Negative  sound quality adorable. overall good week stop...  \n",
       "4   Positive  awesome... good sound quality hr battery life....  "
      ]
     },
     "execution_count": 27,
     "metadata": {},
     "output_type": "execute_result"
    }
   ],
   "source": [
    "df.head()"
   ]
  },
  {
   "cell_type": "markdown",
   "id": "8eaf7b7e-d493-42e4-a1a9-ad048bbd46c1",
   "metadata": {},
   "source": [
    "Sometimes, test also contains Emoji...therefore it's necessary to remove it."
   ]
  },
  {
   "cell_type": "code",
   "execution_count": 28,
   "id": "9fc7151e-6369-4b31-8c35-ea1de7cc3fe6",
   "metadata": {},
   "outputs": [
    {
     "data": {
      "text/plain": [
       "\"awesome... good sound quality hr battery life... waww look... 😉 brought rupees...but amazon's packageing system bad... poor packaging... flipcart's packaging system much better amazon...\""
      ]
     },
     "execution_count": 28,
     "metadata": {},
     "output_type": "execute_result"
    }
   ],
   "source": [
    "# For example the text in row 4 contains emoji.\n",
    "df.Cleaned_Review[4]"
   ]
  },
  {
   "cell_type": "code",
   "execution_count": 29,
   "id": "390d51e4-c524-4a03-a594-b6995ca10abe",
   "metadata": {},
   "outputs": [],
   "source": [
    "#removing unwanted characters like emoji in the data\n",
    "data = df.astype(str).apply(lambda x: x.str.encode('ascii','ignore').str.decode('ascii'))"
   ]
  },
  {
   "cell_type": "code",
   "execution_count": 30,
   "id": "294d6fd4-ee2c-44fb-a928-8b750b82beff",
   "metadata": {},
   "outputs": [
    {
     "data": {
      "text/plain": [
       "\"awesome... good sound quality hr battery life... waww look...  brought rupees...but amazon's packageing system bad... poor packaging... flipcart's packaging system much better amazon...\""
      ]
     },
     "execution_count": 30,
     "metadata": {},
     "output_type": "execute_result"
    }
   ],
   "source": [
    "data.head()\n",
    "data.Cleaned_Review[4]"
   ]
  },
  {
   "cell_type": "code",
   "execution_count": 31,
   "id": "f311b8ac-acb3-4f37-aa38-012bb7cf65f1",
   "metadata": {},
   "outputs": [],
   "source": [
    "# Droping the \"ReviewStar\" Column\n",
    "data.drop('ReviewBody',axis = 1, inplace = True)"
   ]
  },
  {
   "cell_type": "markdown",
   "id": "d3868d28-4448-4e56-851e-58c96092e460",
   "metadata": {},
   "source": [
    "##### Now... I'am going to loop through all the text in the ReviewCleaned column and check the frequency of how \n",
    "\n",
    "##### each words appear in the text .... and will store it as a variable inside \"result\""
   ]
  },
  {
   "cell_type": "code",
   "execution_count": 32,
   "id": "1f1d5fc6-42c8-49fc-ad11-ad985f01ba91",
   "metadata": {},
   "outputs": [
    {
     "data": {
      "text/plain": [
       "FreqDist({'sound': 5671, 'good': 5373, 'quality': 5002, 'product': 3620, 'bass': 2167, 'earphone': 2061, 'battery': 1818, 'one': 1709, 'best': 1278, 'ear': 1228, ...})"
      ]
     },
     "execution_count": 32,
     "metadata": {},
     "output_type": "execute_result"
    }
   ],
   "source": [
    "cleaned_mssg = []\n",
    "for x in data.Cleaned_Review:\n",
    "    cleaned_mssg.extend(x.split())\n",
    "result = nltk.FreqDist(cleaned_mssg)\n",
    "result"
   ]
  },
  {
   "cell_type": "code",
   "execution_count": 33,
   "id": "cf6ebe62-42a0-4443-a008-9d66078c30fb",
   "metadata": {},
   "outputs": [],
   "source": [
    "#Turning the result into a dataFrame\n",
    "freq_dist_result = pd.DataFrame(result.items(), columns = ['Word',\\\n",
    "                                        'Frequency']).sort_values('Frequency',\\\n",
    "                                        ascending= False).reset_index(drop = True)"
   ]
  },
  {
   "cell_type": "code",
   "execution_count": 34,
   "id": "623179c1-ec3b-4177-ab8a-8927010e56b1",
   "metadata": {},
   "outputs": [
    {
     "data": {
      "text/html": [
       "<div>\n",
       "<style scoped>\n",
       "    .dataframe tbody tr th:only-of-type {\n",
       "        vertical-align: middle;\n",
       "    }\n",
       "\n",
       "    .dataframe tbody tr th {\n",
       "        vertical-align: top;\n",
       "    }\n",
       "\n",
       "    .dataframe thead th {\n",
       "        text-align: right;\n",
       "    }\n",
       "</style>\n",
       "<table border=\"1\" class=\"dataframe\">\n",
       "  <thead>\n",
       "    <tr style=\"text-align: right;\">\n",
       "      <th></th>\n",
       "      <th>Word</th>\n",
       "      <th>Frequency</th>\n",
       "    </tr>\n",
       "  </thead>\n",
       "  <tbody>\n",
       "    <tr>\n",
       "      <th>0</th>\n",
       "      <td>sound</td>\n",
       "      <td>5671</td>\n",
       "    </tr>\n",
       "    <tr>\n",
       "      <th>1</th>\n",
       "      <td>good</td>\n",
       "      <td>5373</td>\n",
       "    </tr>\n",
       "    <tr>\n",
       "      <th>2</th>\n",
       "      <td>quality</td>\n",
       "      <td>5002</td>\n",
       "    </tr>\n",
       "    <tr>\n",
       "      <th>3</th>\n",
       "      <td>product</td>\n",
       "      <td>3620</td>\n",
       "    </tr>\n",
       "    <tr>\n",
       "      <th>4</th>\n",
       "      <td>bass</td>\n",
       "      <td>2167</td>\n",
       "    </tr>\n",
       "  </tbody>\n",
       "</table>\n",
       "</div>"
      ],
      "text/plain": [
       "      Word  Frequency\n",
       "0    sound       5671\n",
       "1     good       5373\n",
       "2  quality       5002\n",
       "3  product       3620\n",
       "4     bass       2167"
      ]
     },
     "execution_count": 34,
     "metadata": {},
     "output_type": "execute_result"
    }
   ],
   "source": [
    "freq_dist_result.head()"
   ]
  },
  {
   "cell_type": "markdown",
   "id": "5ca00e10-5e03-427b-bfe9-ac846099a362",
   "metadata": {},
   "source": [
    "##### Now <- I'am going to take some of the top important words in the freq_dist_result and use it for the sentimental analysis. "
   ]
  },
  {
   "cell_type": "code",
   "execution_count": 35,
   "id": "6b4c7a7d-d027-4dc0-99a1-4254dc5bccff",
   "metadata": {},
   "outputs": [],
   "source": [
    "keywords = ['sound','good','quality','product','noise','battery','earphones','working','price','worst']"
   ]
  },
  {
   "cell_type": "code",
   "execution_count": 36,
   "id": "2a7e05aa-d180-4878-82e9-3331ffc154a8",
   "metadata": {},
   "outputs": [],
   "source": [
    "# Loop through the Keywords and see if it appears in our data..\n",
    "for key in keywords:\n",
    "    data[str(key)] = data.Cleaned_Review.str.contains(' ' + str(key) + ' ', case = False)"
   ]
  },
  {
   "cell_type": "code",
   "execution_count": 37,
   "id": "b064a82c-1eef-4250-a32b-627f71a628b1",
   "metadata": {},
   "outputs": [
    {
     "data": {
      "text/html": [
       "<div>\n",
       "<style scoped>\n",
       "    .dataframe tbody tr th:only-of-type {\n",
       "        vertical-align: middle;\n",
       "    }\n",
       "\n",
       "    .dataframe tbody tr th {\n",
       "        vertical-align: top;\n",
       "    }\n",
       "\n",
       "    .dataframe thead th {\n",
       "        text-align: right;\n",
       "    }\n",
       "</style>\n",
       "<table border=\"1\" class=\"dataframe\">\n",
       "  <thead>\n",
       "    <tr style=\"text-align: right;\">\n",
       "      <th></th>\n",
       "      <th>Product</th>\n",
       "      <th>ReviewStar</th>\n",
       "      <th>Cleaned_Review</th>\n",
       "      <th>sound</th>\n",
       "      <th>good</th>\n",
       "      <th>quality</th>\n",
       "      <th>product</th>\n",
       "      <th>noise</th>\n",
       "      <th>battery</th>\n",
       "      <th>earphones</th>\n",
       "      <th>working</th>\n",
       "      <th>price</th>\n",
       "      <th>worst</th>\n",
       "    </tr>\n",
       "  </thead>\n",
       "  <tbody>\n",
       "    <tr>\n",
       "      <th>0</th>\n",
       "      <td>boAt Rockerz 255</td>\n",
       "      <td>Neutral</td>\n",
       "      <td>doubt great bass great extent noise cancellati...</td>\n",
       "      <td>True</td>\n",
       "      <td>False</td>\n",
       "      <td>True</td>\n",
       "      <td>False</td>\n",
       "      <td>True</td>\n",
       "      <td>True</td>\n",
       "      <td>False</td>\n",
       "      <td>False</td>\n",
       "      <td>False</td>\n",
       "      <td>True</td>\n",
       "    </tr>\n",
       "    <tr>\n",
       "      <th>1</th>\n",
       "      <td>boAt Rockerz 255</td>\n",
       "      <td>Negative</td>\n",
       "      <td>earphone unreliable, bought day meanwhile righ...</td>\n",
       "      <td>True</td>\n",
       "      <td>True</td>\n",
       "      <td>True</td>\n",
       "      <td>False</td>\n",
       "      <td>False</td>\n",
       "      <td>False</td>\n",
       "      <td>False</td>\n",
       "      <td>False</td>\n",
       "      <td>False</td>\n",
       "      <td>False</td>\n",
       "    </tr>\n",
       "    <tr>\n",
       "      <th>2</th>\n",
       "      <td>boAt Rockerz 255</td>\n",
       "      <td>Positive</td>\n",
       "      <td>bought itfor ,i purchased second time, gifted ...</td>\n",
       "      <td>False</td>\n",
       "      <td>True</td>\n",
       "      <td>True</td>\n",
       "      <td>False</td>\n",
       "      <td>False</td>\n",
       "      <td>True</td>\n",
       "      <td>False</td>\n",
       "      <td>False</td>\n",
       "      <td>True</td>\n",
       "      <td>False</td>\n",
       "    </tr>\n",
       "    <tr>\n",
       "      <th>3</th>\n",
       "      <td>boAt Rockerz 255</td>\n",
       "      <td>Negative</td>\n",
       "      <td>sound quality adorable. overall good week stop...</td>\n",
       "      <td>False</td>\n",
       "      <td>True</td>\n",
       "      <td>True</td>\n",
       "      <td>False</td>\n",
       "      <td>False</td>\n",
       "      <td>False</td>\n",
       "      <td>False</td>\n",
       "      <td>True</td>\n",
       "      <td>False</td>\n",
       "      <td>False</td>\n",
       "    </tr>\n",
       "    <tr>\n",
       "      <th>4</th>\n",
       "      <td>boAt Rockerz 255</td>\n",
       "      <td>Positive</td>\n",
       "      <td>awesome... good sound quality hr battery life....</td>\n",
       "      <td>True</td>\n",
       "      <td>True</td>\n",
       "      <td>True</td>\n",
       "      <td>False</td>\n",
       "      <td>False</td>\n",
       "      <td>True</td>\n",
       "      <td>False</td>\n",
       "      <td>False</td>\n",
       "      <td>False</td>\n",
       "      <td>False</td>\n",
       "    </tr>\n",
       "  </tbody>\n",
       "</table>\n",
       "</div>"
      ],
      "text/plain": [
       "            Product ReviewStar  \\\n",
       "0  boAt Rockerz 255    Neutral   \n",
       "1  boAt Rockerz 255   Negative   \n",
       "2  boAt Rockerz 255   Positive   \n",
       "3  boAt Rockerz 255   Negative   \n",
       "4  boAt Rockerz 255   Positive   \n",
       "\n",
       "                                      Cleaned_Review  sound   good  quality  \\\n",
       "0  doubt great bass great extent noise cancellati...   True  False     True   \n",
       "1  earphone unreliable, bought day meanwhile righ...   True   True     True   \n",
       "2  bought itfor ,i purchased second time, gifted ...  False   True     True   \n",
       "3  sound quality adorable. overall good week stop...  False   True     True   \n",
       "4  awesome... good sound quality hr battery life....   True   True     True   \n",
       "\n",
       "   product  noise  battery  earphones  working  price  worst  \n",
       "0    False   True     True      False    False  False   True  \n",
       "1    False  False    False      False    False  False  False  \n",
       "2    False  False     True      False    False   True  False  \n",
       "3    False  False    False      False     True  False  False  \n",
       "4    False  False     True      False    False  False  False  "
      ]
     },
     "execution_count": 37,
     "metadata": {},
     "output_type": "execute_result"
    }
   ],
   "source": [
    "data.head()"
   ]
  },
  {
   "cell_type": "markdown",
   "id": "fbf176d5-31a7-4fd0-b6cf-5336f211d81e",
   "metadata": {},
   "source": [
    "##### The Various Keywords in the above dataFrame indicates either \"True or False\"\n",
    "\n",
    "##### For example at index 0 where \"sound\" is True - this means that product review statement written by the customer contains the word \"SOUND\". \n",
    "\n",
    "##### This however indicates that customer said something concerning \"SOUND\" in his/her review. "
   ]
  },
  {
   "cell_type": "code",
   "execution_count": 38,
   "id": "b5b26360-66cf-4d45-91cf-107d1e530853",
   "metadata": {},
   "outputs": [
    {
     "name": "stdout",
     "output_type": "stream",
     "text": [
      "doubt great bass great extent noise cancellation decent sound clarity mindblowing battery following dissapointed though tried lot adjust..bluetooth range m. pain ear due conical budscan removed. wire bit long make odd front.. pouch provided.. worst part low quality distoring mic. person keep complaining voice.\n"
     ]
    }
   ],
   "source": [
    "# Check on what the customer said about sound.\n",
    "print(data.Cleaned_Review[0])"
   ]
  },
  {
   "cell_type": "code",
   "execution_count": null,
   "id": "7cb4ef04-00d1-472a-8c85-f4f2403aba2c",
   "metadata": {},
   "outputs": [],
   "source": []
  },
  {
   "cell_type": "code",
   "execution_count": 39,
   "id": "04826b42-44df-4189-85cb-75e2e97abc7b",
   "metadata": {},
   "outputs": [
    {
     "data": {
      "text/plain": [
       "<AxesSubplot:>"
      ]
     },
     "execution_count": 39,
     "metadata": {},
     "output_type": "execute_result"
    },
    {
     "data": {
      "image/png": "[encoded data removed]",
      "text/plain": [
       "<Figure size 720x504 with 2 Axes>"
      ]
     },
     "metadata": {
      "needs_background": "light"
     },
     "output_type": "display_data"
    }
   ],
   "source": [
    "# Using heatMap to plot the correllation matrix between those words..\n",
    "plt.figure(figsize  =(10,7))\n",
    "sns.heatmap(data.corr(),cbar=True, square= True, fmt= '.1f',annot=True, annot_kws={'size':8},cmap='Spectral_r')"
   ]
  },
  {
   "cell_type": "markdown",
   "id": "ead91c6d-2ade-4730-ba3d-246aef43dd78",
   "metadata": {},
   "source": [
    "##### From the heatmap [sound, good and quality] shows a positive correllation with \"product\" This means \n",
    "\n",
    "##### the customers review concerning the keyword \"product\" in terms of [sound, good and quality] is okay.\n",
    "\n",
    "##### Likewise [worst] also shows a positive correllation with product ... therefore some customer were also not \n",
    "\n",
    "##### satisfy with the product."
   ]
  },
  {
   "cell_type": "code",
   "execution_count": 40,
   "id": "ec8e2285-681e-4b24-86a3-dc144b71fab6",
   "metadata": {},
   "outputs": [
    {
     "data": {
      "text/plain": [
       "product      1.000000\n",
       "good         0.090034\n",
       "price        0.083043\n",
       "worst        0.071505\n",
       "quality      0.070035\n",
       "working      0.053934\n",
       "sound        0.049761\n",
       "battery      0.047261\n",
       "noise        0.021595\n",
       "earphones   -0.004918\n",
       "Name: product, dtype: float64"
      ]
     },
     "execution_count": 40,
     "metadata": {},
     "output_type": "execute_result"
    }
   ],
   "source": [
    "data.corr()['product'].sort_values(ascending=False)"
   ]
  },
  {
   "cell_type": "code",
   "execution_count": null,
   "id": "3cad2eca-d307-4bf2-ade8-c517e0c069dc",
   "metadata": {},
   "outputs": [],
   "source": []
  },
  {
   "cell_type": "markdown",
   "id": "7dd3fadf-6ea5-4e70-974a-b480e0601446",
   "metadata": {},
   "source": [
    "### THE END"
   ]
  },
  {
   "cell_type": "markdown",
   "id": "5c4c93da-d3d0-4398-858a-8453f6a608e0",
   "metadata": {},
   "source": [
    "##### I will stop this analysis here and will continue the remaining analysis on R_programming where i'm going \n",
    "\n",
    "##### to plot a graphical representation of how each keyWords relate to the \"customer products\" and \"customer \n",
    "\n",
    "##### reviews\" whether it's (\"positive\",\"negative\",\"neutral\"). ThereFore the ramainder of these analysis will be \n",
    "\n",
    "##### continued using R_programming .... R_programming is also very good for data insight and analysis."
   ]
  },
  {
   "cell_type": "code",
   "execution_count": 41,
   "id": "e61a3d1f-7eb8-443b-b8ab-f07ed14c1373",
   "metadata": {},
   "outputs": [],
   "source": [
    "# Converting dataFrame to CSV\n",
    "data[['Product','ReviewStar','Cleaned_Review']].to_csv('Cleaned_review_output.csv', index = False)"
   ]
  }
 ],
 "metadata": {
  "kernelspec": {
   "display_name": "Python 3 (ipykernel)",
   "language": "python",
   "name": "python3"
  },
  "language_info": {
   "codemirror_mode": {
    "name": "ipython",
    "version": 3
   },
   "file_extension": ".py",
   "mimetype": "text/x-python",
   "name": "python",
   "nbconvert_exporter": "python",
   "pygments_lexer": "ipython3",
   "version": "3.9.6"
  },
  "toc-autonumbering": false,
  "toc-showtags": false
 },
 "nbformat": 4,
 "nbformat_minor": 5
}
